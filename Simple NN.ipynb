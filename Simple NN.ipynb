{
 "cells": [
  {
   "cell_type": "markdown",
   "id": "1afc0e7e",
   "metadata": {},
   "source": [
    "# Neutal Network \n",
    " "
   ]
  },
  {
   "cell_type": "code",
   "execution_count": 3,
   "metadata": {},
   "outputs": [],
   "source": [
    "import numpy as np"
   ]
  },
  {
   "cell_type": "markdown",
   "id": "9b5cd4d9",
   "metadata": {},
   "source": [
    " simple NN with one neutron"
   ]
  },
  {
   "cell_type": "code",
   "execution_count": 4,
   "id": "ece1bbcf",
   "metadata": {},
   "outputs": [
    {
     "name": "stdout",
     "output_type": "stream",
     "text": [
      "0.9990889488055994\n"
     ]
    }
   ],
   "source": [
    "def sigmoid(x):\n",
    "    return 1/(1 + np.exp(-x))\n",
    "\n",
    "\n",
    "class Neuron:\n",
    "    def __init__(self,weights,bias):\n",
    "        self.weights = weights\n",
    "        self.bias = bias\n",
    "    def feedforward(self,inputs):\n",
    "        total = np.dot(self.weights,inputs) + self.bias\n",
    "        return sigmoid(total)\n",
    "    \n",
    "weights = np.array([0,1])\n",
    "bias = 4\n",
    "n = Neuron(weights,bias)\n",
    "\n",
    "x = np.array([2,3])\n",
    "print(n.feedforward(x))\n",
    "        "
   ]
  },
  {
   "cell_type": "markdown",
   "id": "59b1b399",
   "metadata": {},
   "source": [
    "# One Hidden Layer in between"
   ]
  },
  {
   "cell_type": "code",
   "execution_count": 5,
   "id": "8000e67d",
   "metadata": {},
   "outputs": [
    {
     "name": "stdout",
     "output_type": "stream",
     "text": [
      "0.7216325609518421\n"
     ]
    }
   ],
   "source": [
    "class OurNeuralNetwork:\n",
    "    def __init__(self):\n",
    "        weights = np.array([0,1])\n",
    "        bias = 0\n",
    "        self.h1 = Neuron(weights,bias)\n",
    "        self.h2 = Neuron(weights,bias)\n",
    "        self.o1 = Neuron(weights,bias)\n",
    "\n",
    "    def feedforward(self, x):\n",
    "        # connecting the neurons to make a network \n",
    "        out_h1 = self.h1.feedforward(x)\n",
    "        out_h2 = self.h2.feedforward(x)\n",
    "        out_o1 = self.o1.feedforward(np.array([out_h1,out_h2])) # o1 is connected with h1 and h2 here\n",
    "        return out_o1\n",
    "    \n",
    "network = OurNeuralNetwork() # initialise the neurons with weight and bias in constructor __init__\n",
    "\n",
    "x = np.array([2,3])\n",
    "print(network.feedforward(x)) # x is a input given to network\n"
   ]
  },
  {
   "cell_type": "markdown",
   "id": "c4062d38",
   "metadata": {},
   "source": [
    "# Neutral Network training using SGD "
   ]
  },
  {
   "cell_type": "code",
   "execution_count": 11,
   "id": "2bcf0d87",
   "metadata": {},
   "outputs": [
    {
     "name": "stdout",
     "output_type": "stream",
     "text": [
      "1.2968831108002787\n",
      "0.8354155156573274\n",
      "1.5642719449361049\n",
      "-0.4089794233675265\n",
      "-3.3875595244910897\n",
      "-2.725858490624151\n"
     ]
    }
   ],
   "source": [
    "import numpy as np\n",
    "\n",
    "def sigmoid(x):\n",
    "    return 1 / (1 + np.exp(-x))\n",
    "\n",
    "def deriv_sigmoid(x):\n",
    "    fx = sigmoid(x)\n",
    "    return fx*(1-fx)\n",
    "\n",
    "def mse_loss(y_true,y_pred):\n",
    "    return ((y_true-y_pred)**2).mean()\n",
    "\n",
    "class OurNeuralNetwork:\n",
    "    def __init__(self):\n",
    "        self.w1 = np.random.normal()\n",
    "        self.w2 = np.random.normal()\n",
    "        self.w3 = np.random.normal()\n",
    "        self.w4 = np.random.normal()\n",
    "        self.w5 = np.random.normal()\n",
    "        self.w6 = np.random.normal()\n",
    "        self.b1 = np.random.normal()\n",
    "        self.b2 = np.random.normal()\n",
    "        self.b3 = np.random.normal()\n",
    "\n",
    "    def feedforward(self ,x):\n",
    "        h1 = sigmoid(self.w1 * x[0] + self.w2 * x[1] + self.b1) \n",
    "        h2 = sigmoid(self.w3 * x[0] + self.w4 * x[1] + self.b2) \n",
    "        o1 = sigmoid(self.w5 * h1 + self.w6 * h2 + self.b3) \n",
    "        return o1\n",
    "    \n",
    "    def train(self, data, all_y_trues):\n",
    "        learn_rate = 0.1\n",
    "        epochs = 1000\n",
    "\n",
    "        for epoch in range(epochs):\n",
    "            for x,y_true in zip(data, all_y_trues):\n",
    "                sum_h1 = self.w1 * x[0] + self.w2 * x[1] + self.b1\n",
    "                h1 = sigmoid(sum_h1)\n",
    "                sum_h2 = self.w3 * x[0] + self.w4 * x[1] + self.b2\n",
    "                h2 = sigmoid(sum_h2)\n",
    "                sum_o1 = self.w5 * h1 + self.w6 * h2 + self.b3\n",
    "                o1 = sigmoid(sum_o1)  \n",
    "                y_pred = o1\n",
    "\n",
    "                d_L_d_ypred = -2 * (y_true - y_pred)\n",
    "                \n",
    "                # --- Calculate partial derivatives.\n",
    "                #Neuron o1    \n",
    "                d_ypred_d_w5 = h1 * deriv_sigmoid(sum_o1)\n",
    "                d_ypred_d_w6 = h2 * deriv_sigmoid(sum_o1)\n",
    "                d_ypred_d_b3 = deriv_sigmoid(sum_o1)\n",
    "\n",
    "                d_ypred_d_h1 = deriv_sigmoid(sum_o1) * self.w5\n",
    "                d_ypred_d_h2 = deriv_sigmoid(sum_o1) * self.w6\n",
    "\n",
    "                #neuron h1\n",
    "\n",
    "                d_h1_d_w1 = deriv_sigmoid(sum_h1) * x[0]\n",
    "                d_h1_d_w2 = deriv_sigmoid(sum_h1) * x[1]\n",
    "                d_h1_d_b1 = deriv_sigmoid(sum_h1)\n",
    "\n",
    "                #neuron h2\n",
    "\n",
    "                d_h2_d_w3 = deriv_sigmoid(sum_h2) * x[0]\n",
    "                d_h2_d_w4 = deriv_sigmoid(sum_h2) * x[1]\n",
    "                d_h2_d_b2 = deriv_sigmoid(sum_h2)\n",
    "\n",
    "\n",
    "\n",
    "                # --- Update weights and biases\n",
    "                # Neuron h1\n",
    "                self.w1 -= learn_rate * d_L_d_ypred * d_ypred_d_h1 * d_h1_d_w1\n",
    "                self.w2 -= learn_rate * d_L_d_ypred * d_ypred_d_h1 * d_h1_d_w2\n",
    "                self.b1 -= learn_rate * d_L_d_ypred * d_ypred_d_h1 * d_h1_d_b1\n",
    "\n",
    "                # Neuron h2\n",
    "                self.w3 -= learn_rate * d_L_d_ypred * d_ypred_d_h2 * d_h2_d_w3\n",
    "                self.w4 -= learn_rate * d_L_d_ypred * d_ypred_d_h2 * d_h2_d_w4\n",
    "                self.b2 -= learn_rate * d_L_d_ypred * d_ypred_d_h2 * d_h2_d_b2\n",
    "\n",
    "                # Neuron o1\n",
    "                self.w5 -= learn_rate * d_L_d_ypred * d_ypred_d_w5\n",
    "                self.w6 -= learn_rate * d_L_d_ypred * d_ypred_d_w6\n",
    "                self.b3 -= learn_rate * d_L_d_ypred * d_ypred_d_b3\n",
    "            if epoch % 10 == 0:\n",
    "                y_preds = np.apply_along_axis(self.feedforward, 1, data)\n",
    "                loss = mse_loss(all_y_trues, y_preds)\n",
    "                # print(\"Epoch %d loss: %.3f\" % (epoch, loss))\n",
    "  \n",
    "\n",
    "# Define dataset\n",
    "data = np.array([\n",
    "  [-2, -1],  # Alice\n",
    "  [25, 6],   # Bob\n",
    "  [17, 4],   # Charlie\n",
    "  [-15, -6], # Diana\n",
    "])\n",
    "all_y_trues = np.array([\n",
    "  1, # Alice\n",
    "  0, # Bob\n",
    "  0, # Charlie\n",
    "  1, # Diana\n",
    "])\n",
    "\n",
    "# Train our neural network!\n",
    "network = OurNeuralNetwork()\n",
    "network.train(data, all_y_trues)\n",
    "\n",
    "\n",
    "print(network.w1)\n",
    "print(network.w2)\n",
    "print(network.w3)\n",
    "print(network.w4)\n",
    "print(network.w5)\n",
    "print(network.w6)\n",
    "\n"
   ]
  },
  {
   "cell_type": "code",
   "execution_count": 9,
   "id": "a6d65070",
   "metadata": {},
   "outputs": [
    {
     "name": "stdout",
     "output_type": "stream",
     "text": [
      "Emily: 0.968\n",
      "Frank: 0.055\n"
     ]
    }
   ],
   "source": [
    "# Make some predictions\n",
    "emily = np.array([-7, -3]) # 128 pounds, 63 inches\n",
    "frank = np.array([20, 2])  # 155 pounds, 68 inches\n",
    "print(\"Emily: %.3f\" % network.feedforward(emily)) # 0.951 - F\n",
    "print(\"Frank: %.3f\" % network.feedforward(frank)) # 0.039 - M"
   ]
  }
 ],
 "metadata": {
  "kernelspec": {
   "display_name": "venv",
   "language": "python",
   "name": "python3"
  },
  "language_info": {
   "codemirror_mode": {
    "name": "ipython",
    "version": 3
   },
   "file_extension": ".py",
   "mimetype": "text/x-python",
   "name": "python",
   "nbconvert_exporter": "python",
   "pygments_lexer": "ipython3",
   "version": "3.9.4"
  }
 },
 "nbformat": 4,
 "nbformat_minor": 5
}
