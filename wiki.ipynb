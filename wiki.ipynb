{
 "cells": [
  {
   "cell_type": "code",
   "execution_count": 3,
   "id": "47482675-ccf0-4bec-8269-9830b46f0288",
   "metadata": {},
   "outputs": [
    {
     "data": {
      "text/plain": [
       "\"The Wikimedia Foundation, Inc., abbreviated WMF, is an American 501(c)(3) nonprofit organization headquartered in San Francisco, California, and registered there as a charitable foundation. It is the host of Wikipedia, the seventh most visited website in the world. It also hosts fourteen similar projects and supports the development of MediaWiki, the wiki software that underpins them all. The Foundation was established in 2003 in St. Petersburg, Florida by Jimmy Wales, as a non-profit way to fund his crowdsourced wiki projects. They had previously been hosted by Bomis, Wales's for-profit company. \\nThe Wikimedia Foundation provides the technical and organizational infrastructure to enable members of the public to develop wiki-based content in languages across the world. The Foundation does not write or curate any of the content on the projects themselves. Instead, this is done by volunteer editors, such as the Wikipedians. However, it does collaborate with a network of individual volunteers and affiliated organizations, such as Wikimedia chapters, thematic organizations, user groups and other partners.\\nThe Foundation finances itself mainly through millions of small donations from Wikipedia readers, collected through email campaigns and annual fundraising banners placed on Wikipedia and its sister projects. These are complemented by grants from philanthropic organizations and tech companies, and starting in 2022, by services income from Wikimedia Enterprise. As of 2023, it has employed over 700 staff and contractors, with net assets of $255 million and a growing endowment which has surpassed $100 million.\""
      ]
     },
     "execution_count": 3,
     "metadata": {},
     "output_type": "execute_result"
    }
   ],
   "source": [
    "import wikipedia as wiki\n",
    "\n",
    "wiki.summary('Wikipedia')"
   ]
  },
  {
   "cell_type": "code",
   "execution_count": 6,
   "id": "ab64548e-2a03-45f1-a0c8-2a3256ec564f",
   "metadata": {},
   "outputs": [
    {
     "data": {
      "text/plain": [
       "\"India, officially the Republic of India (ISO: Bhārat Gaṇarājya), is a country in South Asia.  It is the seventh-largest country by area; the most populous country with effect from June 2023; and from the time of its independence in 1947, the world's most populous democracy. Bounded by the Indian Ocean on the south, the Arabian Sea on the southwest, and the Bay of Bengal on the southeast, it shares land borders with Pakistan to the west; China, Nepal, and Bhutan to the north; and Bangladesh and Myanmar to the east. In the Indian Ocean, India is in the vicinity of Sri Lanka and the Maldives; its Andaman and Nicobar Islands share a maritime border with Thailand, Myanmar, and Indonesia.\\nModern humans arrived on the Indian subcontinent from Africa no later than 55,000 years ago.\\nTheir long occupation, initially in varying forms of isolation as hunter-gatherers, has made the region highly diverse, second only to Africa in human genetic diversity. Settled life emerged on the subcontinent in the western margins of the Indus river basin 9,000 years ago, evolving gradually into the Indus Valley Civilisation of the third millennium BCE.\\nBy 1200 BCE, an archaic form of Sanskrit, an Indo-European language, had diffused into India from the northwest. Its evidence today is found in the hymns of the Rigveda. Preserved by an oral tradition that was resolutely vigilant, the Rigveda records the dawning of Hinduism in India. The Dravidian languages of India were supplanted in the northern and western regions. By 400 BCE, stratification and exclusion by caste had emerged within Hinduism, and Buddhism and Jainism had arisen, proclaiming social orders unlinked to heredity.\\nEarly political consolidations gave rise to the loose-knit Maurya and Gupta Empires based in the Ganges Basin.\\nTheir collective era was suffused with wide-ranging creativity, but also marked by the declining status of women, and the incorporation of untouchability into an organised system of belief. In South India, the Middle kingdoms exported Dravidian-languages scripts and religious cultures to the kingdoms of Southeast Asia.\\nIn the early medieval era, Christianity, Islam, Judaism, and Zoroastrianism became established on India's southern and western coasts.\\nMuslim armies from Central Asia intermittently overran India's northern plains,\\neventually founding the Delhi Sultanate, and drawing northern India into the cosmopolitan networks of medieval Islam.\\nIn the 15th century, the Vijayanagara Empire created a long-lasting composite Hindu culture in south India.\\nIn the Punjab, Sikhism emerged, rejecting institutionalised religion.\\nThe Mughal Empire, in 1526, ushered in two centuries of relative peace,\\nleaving a legacy of luminous architecture.\\nGradually expanding rule of the British East India Company followed, turning India into a colonial economy, but also consolidating its sovereignty. British Crown rule began in 1858. The rights promised to Indians were granted slowly, but technological changes were introduced, and modern ideas of education and the public life took root. A pioneering and influential nationalist movement emerged, which was noted for nonviolent resistance and became the major factor in ending British rule. In 1947 the British Indian Empire was partitioned into two independent dominions, a Hindu-majority Dominion of India and a Muslim-majority Dominion of Pakistan, amid large-scale loss of life and an unprecedented migration.\\nIndia has been a federal republic since 1950, governed through a democratic parliamentary system. It is a pluralistic, multilingual and multi-ethnic society. India's population grew from 361 million in 1951 to almost 1.4 billion in 2022.\\nDuring the same time, its nominal per capita income increased from US$64 annually to US$2,601, and its literacy rate from 16.6% to 74%. From being a comparatively destitute country in 1951, India has become a fast-growing major economy and a hub for information technology services, with an expanding middle class. India has a space programme with several planned or completed extraterrestrial missions. Indian movies, music, and spiritual teachings play an increasing role in global culture. India has substantially reduced its rate of poverty, though at the cost of increasing economic inequality. India is a nuclear-weapon state, which ranks high in military expenditure. It has disputes over Kashmir with its neighbours, Pakistan and China, unresolved since the mid-20th century. Among the socio-economic challenges India faces are gender inequality, child malnutrition, and rising levels of air pollution. India's land is megadiverse, with four biodiversity hotspots. Its forest cover comprises 21.7% of its area. India's wildlife, which has traditionally been viewed with tolerance in India's culture, is supported among these forests, and elsewhere, in protected habitats.\""
      ]
     },
     "execution_count": 6,
     "metadata": {},
     "output_type": "execute_result"
    }
   ],
   "source": [
    "wiki.summary(\"Indian\")"
   ]
  },
  {
   "cell_type": "code",
   "execution_count": 7,
   "id": "e99498ce-5c39-41c0-8cf8-84ea858e77a0",
   "metadata": {},
   "outputs": [
    {
     "data": {
      "text/plain": [
       "\"The cat (Felis catus), also referred to as domestic cat or house cat, is a small domesticated carnivorous mammal. It is the only domesticated species of the family Felidae. Advances in archaeology and genetics have shown that the domestication of the cat occurred in the Near East around 7500 BC. It is commonly kept as a house pet and farm cat, but also ranges freely as a feral cat avoiding human contact. Valued by humans for companionship and its ability to kill vermin, the cat's retractable claws are adapted to killing small prey like mice and rats. It has a strong, flexible body, quick reflexes, and sharp teeth, and its night vision and sense of smell are well developed. It is a social species, but a solitary hunter and a crepuscular predator. Cat communication includes vocalizations like meowing, purring, trilling, hissing, growling, and grunting as well as cat body language. It can hear sounds too faint or too high in frequency for human ears, such as those made by small mammals. It secretes and perceives pheromones.\\nFemale domestic cats can have kittens from spring to late autumn in temperate zones and throughout the year in equatorial regions, with litter sizes often ranging from two to five kittens. Domestic cats are bred and shown at events as registered pedigreed cats, a hobby known as cat fancy. Animal population control of cats may be achieved by spaying and neutering, but their proliferation and the abandonment of pets has resulted in large numbers of feral cats worldwide, contributing to the extinction of bird, mammal, and reptile species.\\nAs of 2017, the domestic cat was the second most popular pet in the United States, with 95.6 million cats owned and around 42 million households owning at least one cat. In the United Kingdom, 26% of adults have a cat, with an estimated population of 10.9 million pet cats as of 2020. As of 2021, there were an estimated 220 million owned and 480 million stray cats in the world.\""
      ]
     },
     "execution_count": 7,
     "metadata": {},
     "output_type": "execute_result"
    }
   ],
   "source": [
    "wiki.summary(\"Car\")"
   ]
  },
  {
   "cell_type": "code",
   "execution_count": 26,
   "id": "d7448196-33d3-4620-9224-e072e9fceef5",
   "metadata": {},
   "outputs": [
    {
     "data": {
      "text/plain": [
       "['Porsche', 'Porsche 911', 'Porsche 911 GT3']"
      ]
     },
     "execution_count": 26,
     "metadata": {},
     "output_type": "execute_result"
    }
   ],
   "source": [
    "wiki.search('Porsche',results=3)"
   ]
  },
  {
   "cell_type": "code",
   "execution_count": 16,
   "id": "38ff2849-997e-4551-9938-c511e25ab000",
   "metadata": {},
   "outputs": [
    {
     "ename": "TypeError",
     "evalue": "page() got an unexpected keyword argument 'results'",
     "output_type": "error",
     "traceback": [
      "\u001b[0;31m---------------------------------------------------------------------------\u001b[0m",
      "\u001b[0;31mTypeError\u001b[0m                                 Traceback (most recent call last)",
      "Cell \u001b[0;32mIn[25], line 1\u001b[0m\n\u001b[0;32m----> 1\u001b[0m ny \u001b[38;5;241m=\u001b[39m \u001b[43mwiki\u001b[49m\u001b[38;5;241;43m.\u001b[39;49m\u001b[43mpage\u001b[49m\u001b[43m(\u001b[49m\u001b[38;5;124;43m'\u001b[39;49m\u001b[38;5;124;43mPorsche 911 GT3\u001b[39;49m\u001b[38;5;124;43m'\u001b[39;49m\u001b[43m,\u001b[49m\u001b[43mresults\u001b[49m\u001b[38;5;241;43m=\u001b[39;49m\u001b[38;5;241;43m3\u001b[39;49m\u001b[43m)\u001b[49m\n",
      "\u001b[0;31mTypeError\u001b[0m: page() got an unexpected keyword argument 'results'"
     ]
    }
   ],
   "source": [
    "ny = wiki.page('Porsche 911 GT3')"
   ]
  },
  {
   "cell_type": "code",
   "execution_count": 18,
   "id": "3c7214b3-5745-425b-956e-664273f748f7",
   "metadata": {},
   "outputs": [
    {
     "data": {
      "text/plain": [
       "'Porsche 911 GT3'"
      ]
     },
     "execution_count": 18,
     "metadata": {},
     "output_type": "execute_result"
    }
   ],
   "source": [
    "ny.title"
   ]
  },
  {
   "cell_type": "code",
   "execution_count": 19,
   "id": "c7c96610-ddcc-44c2-8f44-ad8d47c58b89",
   "metadata": {},
   "outputs": [
    {
     "data": {
      "text/plain": [
       "'https://en.wikipedia.org/wiki/Porsche_911_GT3'"
      ]
     },
     "execution_count": 19,
     "metadata": {},
     "output_type": "execute_result"
    }
   ],
   "source": [
    "ny.url"
   ]
  },
  {
   "cell_type": "code",
   "execution_count": 20,
   "id": "ca235d9a-c041-4250-9dab-0ccf392cb146",
   "metadata": {},
   "outputs": [
    {
     "data": {
      "text/plain": [
       "['1998 24 Hours of Le Mans',\n",
       " '1999 24 Hours of Le Mans',\n",
       " '2000 24 Hours of Le Mans',\n",
       " '2003 24 Hours of Daytona',\n",
       " '2003 Spa 24 Hours',\n",
       " '2004 24 Hours of Le Mans',\n",
       " '2004 FIA GT Donington 500km',\n",
       " '2005 24 Hours of Le Mans',\n",
       " '2006 24 Hours of Nürburgring',\n",
       " '2006 Spa 24 Hours',\n",
       " '2007 24 Hours of Nürburgring',\n",
       " '2008 24 Hours of Nürburgring',\n",
       " '2009 24 Hours of Nürburgring',\n",
       " '2010 24 Hours of Spa',\n",
       " '2011 24 Hours of Nürburgring',\n",
       " '2012 FIA World Endurance Championship',\n",
       " '2013 24 Hours of Le Mans',\n",
       " '2013 FIA World Endurance Championship',\n",
       " '2013 Porsche Supercup season',\n",
       " '2014 FIA World Endurance Championship',\n",
       " '2014 United SportsCar Championship season',\n",
       " '2015 FIA World Endurance Championship',\n",
       " '2015 Petit Le Mans',\n",
       " '2016 FIA World Endurance Championship',\n",
       " '2017 24 Hours of Daytona',\n",
       " '2017 FIA World Endurance Championship',\n",
       " '2018 24 Hours of Le Mans',\n",
       " '2018 24 Hours of Nürburgring',\n",
       " '2019 24 Hours of Le Mans',\n",
       " '2019 24 Hours of Spa',\n",
       " '2019 Bathurst 12 Hour',\n",
       " '2020 24 Hours of Spa',\n",
       " '2021 24 Hours of Nürburgring',\n",
       " '2021 Dubai 24 Hour',\n",
       " '2023 24 Hours of Daytona',\n",
       " '2024 Bathurst 12 Hour',\n",
       " '24 Hours Nürburgring',\n",
       " '24 Hours of Daytona',\n",
       " '9ff GT9',\n",
       " 'Adolf Rosenberger',\n",
       " 'Air-cooled',\n",
       " 'Air-cooled engine',\n",
       " 'Al Holbert',\n",
       " 'Aston Martin Vantage GT2',\n",
       " 'Audi',\n",
       " 'Audi R18',\n",
       " 'Audi Sport GmbH',\n",
       " 'Australian Carrera Cup Championship',\n",
       " 'AutoWeek',\n",
       " 'Autocar (magazine)',\n",
       " 'Autodromo di Franciacorta',\n",
       " 'Automotive design',\n",
       " 'BBS Kraftfahrzeugtechnik',\n",
       " 'BR Engineering BR01',\n",
       " 'Bathurst 12 Hour',\n",
       " 'Bentley',\n",
       " 'Brake',\n",
       " 'Brake fade',\n",
       " 'Bugatti Automobiles',\n",
       " 'CLM P1/01',\n",
       " 'CNET',\n",
       " 'CORE Autosport',\n",
       " 'Car & Driver',\n",
       " 'Car body style',\n",
       " 'Car classification',\n",
       " 'Carbon fiber reinforced plastic',\n",
       " 'Carbon fiber reinforced polymer',\n",
       " 'Ceramic',\n",
       " 'Chevrolet Corvette C6.R',\n",
       " 'Chevrolet Corvette C7.R',\n",
       " 'Chris Harris (journalist)',\n",
       " 'Circuit de Spa-Francorchamps',\n",
       " 'Cisitalia Grand Prix',\n",
       " 'Coupé',\n",
       " 'Crain Communications Inc.',\n",
       " 'Crankcase',\n",
       " 'Curb weight',\n",
       " 'DIN',\n",
       " 'Dan Neil (journalist)',\n",
       " 'Daytona International Speedway',\n",
       " 'Dome S102',\n",
       " 'Double wishbone suspension',\n",
       " 'Downforce',\n",
       " 'Drag reduction system',\n",
       " 'Dry-sump',\n",
       " 'Dry sump',\n",
       " 'Dual-clutch transmission',\n",
       " 'Dubai 24 Hour',\n",
       " 'Ducati',\n",
       " 'Dynamometer',\n",
       " 'Engine',\n",
       " 'Ernst Fuhrmann',\n",
       " 'Erwin Komenda',\n",
       " 'Evo (magazine)',\n",
       " 'F1 World Championship',\n",
       " 'FIA',\n",
       " 'FIA World Endurance Championship',\n",
       " 'Ferdinand Alexander Porsche',\n",
       " 'Ferdinand Anton Ernst Porsche',\n",
       " 'Ferdinand Piëch',\n",
       " 'Ferdinand Porsche',\n",
       " 'Ferrari 458',\n",
       " 'Ferrari 488 GTE',\n",
       " 'Ferrari F430',\n",
       " 'Flat-6',\n",
       " 'Flat-six engine',\n",
       " 'Flat engine',\n",
       " 'Flywheel',\n",
       " 'Ford GT',\n",
       " 'Formula One',\n",
       " 'Formula One car',\n",
       " 'Frankfurt Motor Show',\n",
       " 'Franz Xaver Reimspiess',\n",
       " 'Fritz Huschke von Hanstein',\n",
       " 'Gasoline direct injection',\n",
       " 'Geneva Motor Show',\n",
       " 'Goodwood Festival of Speed',\n",
       " 'Group GT3',\n",
       " 'HANS device',\n",
       " 'HPD ARX-03',\n",
       " 'Hachette Filipacchi Media',\n",
       " 'Hans Mezger',\n",
       " 'Harm Lagaay',\n",
       " 'Herbert Linge',\n",
       " 'Highly Innovative Fuels Australia',\n",
       " 'Homologation (motorsport)',\n",
       " 'Horch',\n",
       " 'Horst von Saurma',\n",
       " 'Hybrid vehicle',\n",
       " 'IMSA Performance',\n",
       " 'ISSN (identifier)',\n",
       " 'Indirect injection',\n",
       " 'Indy Grand Prix of Alabama',\n",
       " 'International Motor Sports Association',\n",
       " 'Karl Rabe',\n",
       " 'Kelvin Burt',\n",
       " 'Kinetic energy recovery system',\n",
       " 'Kévin Estre',\n",
       " 'LM GTE',\n",
       " 'Lamborghini',\n",
       " 'Le Mans Prototype',\n",
       " 'Leather',\n",
       " 'Ligier JS P2',\n",
       " 'List of Nürburgring Nordschleife lap times',\n",
       " 'List of Porsche concept vehicles',\n",
       " 'List of Porsche engines',\n",
       " 'List of Porsche vehicles',\n",
       " 'List of best-selling automobiles',\n",
       " 'Lohner–Porsche',\n",
       " 'Lola B08/60',\n",
       " 'Lola B08/80',\n",
       " 'Lola B12/60',\n",
       " 'Lotus T128 (Le Mans Prototype)',\n",
       " 'Louise Piëch',\n",
       " 'MacPherson strut',\n",
       " 'Manthey Racing',\n",
       " 'Manual transmission',\n",
       " 'Marino Franchitti',\n",
       " 'Matthias Müller (businessman)',\n",
       " 'Michael Macht',\n",
       " 'Michael Mauer',\n",
       " 'Motorsport Centre Flacht',\n",
       " 'Naturally-aspirated',\n",
       " 'Naturally aspirated',\n",
       " 'Naturally aspirated engine',\n",
       " 'Nissan GT-R LM Nismo',\n",
       " 'Norbert Singer',\n",
       " 'Nürburgring',\n",
       " 'Oliver Blume',\n",
       " 'Oreca 03',\n",
       " 'Oreca 05',\n",
       " 'Oreca 07',\n",
       " 'PDK (Porsche Doppelkupplungsgetriebe)',\n",
       " 'Panoz Esperante',\n",
       " 'Paris Motor Show',\n",
       " 'Patrick Simon (racing driver)',\n",
       " 'Pescarolo 01',\n",
       " 'Pescarolo 03',\n",
       " 'Peter Schutz',\n",
       " 'Petit Le Mans',\n",
       " 'Pinky Lai',\n",
       " 'Pirelli',\n",
       " 'Polycarbonate',\n",
       " 'Porsche',\n",
       " 'Porsche-Arena',\n",
       " 'Porsche 114',\n",
       " 'Porsche 356',\n",
       " 'Porsche 356/1',\n",
       " 'Porsche 356/2',\n",
       " 'Porsche 356SL',\n",
       " 'Porsche 542',\n",
       " 'Porsche 550',\n",
       " 'Porsche 597',\n",
       " 'Porsche 64',\n",
       " 'Porsche 645',\n",
       " 'Porsche 718',\n",
       " 'Porsche 718 Boxster and Cayman (982)',\n",
       " 'Porsche 787',\n",
       " 'Porsche 804',\n",
       " 'Porsche 901',\n",
       " 'Porsche 904',\n",
       " 'Porsche 906',\n",
       " 'Porsche 907',\n",
       " 'Porsche 908',\n",
       " 'Porsche 909 Bergspyder',\n",
       " 'Porsche 910',\n",
       " 'Porsche 911',\n",
       " 'Porsche 911 (930)',\n",
       " 'Porsche 911 (964)',\n",
       " 'Porsche 911 (991)',\n",
       " 'Porsche 911 (992)',\n",
       " 'Porsche 911 (993)',\n",
       " 'Porsche 911 (996)',\n",
       " 'Porsche 911 (997)',\n",
       " 'Porsche 911 (classic)',\n",
       " 'Porsche 911 GT1',\n",
       " 'Porsche 911 GT2',\n",
       " 'Porsche 911 RSR',\n",
       " 'Porsche 911 RSR-19',\n",
       " 'Porsche 911 RSR (2017)',\n",
       " 'Porsche 912',\n",
       " 'Porsche 914',\n",
       " 'Porsche 914-6 GT',\n",
       " 'Porsche 917',\n",
       " 'Porsche 918 Spyder',\n",
       " 'Porsche 919 Hybrid',\n",
       " 'Porsche 924',\n",
       " 'Porsche 928',\n",
       " 'Porsche 934',\n",
       " 'Porsche 935',\n",
       " 'Porsche 936',\n",
       " 'Porsche 944',\n",
       " 'Porsche 953',\n",
       " 'Porsche 956',\n",
       " 'Porsche 959',\n",
       " 'Porsche 961',\n",
       " 'Porsche 962',\n",
       " 'Porsche 963',\n",
       " 'Porsche 968',\n",
       " 'Porsche 969',\n",
       " 'Porsche 984',\n",
       " 'Porsche 989',\n",
       " 'Porsche 991',\n",
       " 'Porsche 992',\n",
       " 'Porsche 993',\n",
       " 'Porsche 996',\n",
       " 'Porsche 997',\n",
       " 'Porsche Boxster',\n",
       " 'Porsche Boxster (986)',\n",
       " 'Porsche Boxster and Cayman',\n",
       " 'Porsche Boxster and Cayman (981)',\n",
       " 'Porsche Boxster and Cayman (987)',\n",
       " 'Porsche C88',\n",
       " 'Porsche Carrera Cup',\n",
       " 'Porsche Carrera Cup France',\n",
       " 'Porsche Carrera Cup Germany',\n",
       " 'Porsche Carrera Cup Great Britain',\n",
       " 'Porsche Carrera Cup North America',\n",
       " 'Porsche Carrera Cup Scandinavia',\n",
       " 'Porsche Carrera GT',\n",
       " 'Porsche Cayenne',\n",
       " 'Porsche Club of America',\n",
       " 'Porsche Design',\n",
       " 'Porsche Engineering',\n",
       " 'Porsche Holding',\n",
       " 'Porsche Junior',\n",
       " 'Porsche Junioren',\n",
       " 'Porsche LMP2000',\n",
       " 'Porsche Macan',\n",
       " 'Porsche Mission R',\n",
       " 'Porsche Mission X',\n",
       " 'Porsche Museum',\n",
       " 'Porsche Museum, Stuttgart',\n",
       " 'Porsche P1',\n",
       " 'Porsche Panamera',\n",
       " 'Porsche Panamericana',\n",
       " 'Porsche RS Spyder',\n",
       " 'Porsche Rennsport Reunion',\n",
       " 'Porsche SE',\n",
       " 'Porsche Super',\n",
       " 'Porsche Supercup',\n",
       " 'Porsche Tapiro',\n",
       " 'Porsche Taycan',\n",
       " 'Porsche Typ 754 T7',\n",
       " 'Porsche Type 12',\n",
       " 'Porsche VIN numbers',\n",
       " 'Porsche Vision Gran Turismo',\n",
       " 'Porsche WSC-95',\n",
       " 'Porsche family',\n",
       " 'Porsche flat-six engine',\n",
       " 'Porsche in motorsport',\n",
       " 'Porsche type numbers',\n",
       " 'Power-to-weight ratio',\n",
       " 'Powertrain layout',\n",
       " 'Proton Competition',\n",
       " 'Rear-engine, rear-wheel-drive layout',\n",
       " 'Rebellion R-One',\n",
       " 'Reinforced carbon-carbon',\n",
       " 'Road & Track',\n",
       " 'Robert Eberan von Eberhorst',\n",
       " 'Roland Asch',\n",
       " 'Roll cage',\n",
       " 'Rothmans International',\n",
       " 'Ruf Automobile',\n",
       " 'Ruf RGT',\n",
       " 'S-segment',\n",
       " 'SEAT',\n",
       " 'Scania AB',\n",
       " 'Spa 24 Hours',\n",
       " 'Spark SRT05e',\n",
       " 'Sport auto (Germany)',\n",
       " 'Sports car',\n",
       " 'Strakka-Dome S103',\n",
       " 'The Wall Street Journal',\n",
       " 'Tiptronic',\n",
       " 'Top Gear (magazine)',\n",
       " 'Toyota TS030 Hybrid',\n",
       " 'Toyota TS040 Hybrid',\n",
       " 'Toyota TS050 Hybrid',\n",
       " 'Transmission (mechanical device)',\n",
       " 'Ulrich Bez',\n",
       " 'United SportsCar Championship',\n",
       " 'VarioCam',\n",
       " 'VarioRam',\n",
       " 'Veranstaltergemeinschaft Langstreckenpokal Nürburgring',\n",
       " 'Volkswagen',\n",
       " 'Volkswagen Commercial Vehicles',\n",
       " 'Volkswagen Group',\n",
       " 'Walker Racing',\n",
       " 'Walter Röhrl',\n",
       " 'Water-cooled',\n",
       " 'Wayback Machine',\n",
       " 'Wendelin Wiedeking',\n",
       " 'Wheelbase',\n",
       " 'Williams F1',\n",
       " 'Wolfgang Dürheimer',\n",
       " 'Wolfgang Porsche',\n",
       " 'Zakspeed',\n",
       " 'Zuffenhausen',\n",
       " 'Zuffenhausen Porsche',\n",
       " 'Zytek Z11SN',\n",
       " 'Škoda Auto']"
      ]
     },
     "execution_count": 20,
     "metadata": {},
     "output_type": "execute_result"
    }
   ],
   "source": [
    "ny.links"
   ]
  },
  {
   "cell_type": "code",
   "execution_count": 22,
   "id": "c8b7c355-89b9-4f90-811f-29ab6a7ca33f",
   "metadata": {},
   "outputs": [],
   "source": [
    "wiki.set_lang('EN')"
   ]
  },
  {
   "cell_type": "code",
   "execution_count": 27,
   "id": "963cc74f-21d0-4bd3-8ef1-ce56bea0a5a3",
   "metadata": {},
   "outputs": [
    {
     "data": {
      "text/plain": [
       "'The Porsche 911 GT3 is a high-performance homologation model of the Porsche 911 sports car. It is a line of high-performance models, which began with the 1973 911 Carrera RS.\\nThe GT3 has had a successful racing career in the one-make national and regional Porsche Carrera Cup and GT3 Cup Challenge series, as well as the international Porsche Supercup supporting the FIA F1 World Championship.\\n\\n\\n== Road cars ==\\n\\n\\n=== 996 GT3 ===\\n\\n\\n==== 911 GT3 ====\\nThe \"GT3\" nameplate was introduced in 1999 as part of the first generation of the Porsche 996 model range (commonly known as 996.1) as a homologation model for the cars entered in the FIA GT3 cup. As with Porsche\\'s previous 911 RS models, the 996 GT3 was focused on racing, and so was devoid of items that added unnecessary weight to the car. Sound deadening was almost completely removed, as were the rear seats, rear loud speakers, sunroof, and air conditioning, although automatic air conditioning and CD/radio became no-cost optional add-ons.\\nThe engine of the 996 GT\\'s and Turbo set it apart from 996 Carrera models, as it shared nothing with the standard so-called \"integrated dry sump\" (e.g. wet-sump) flat-six engine used in the water-cooled 996 Carrera engine introduced in MY1999. The 996 GT engine is naturally aspirated and based on \"The Mezger\" racing engine used in the 962 and 911 GT1 race cars. That engine was known as the \\'Mezger\\' engine, after its designer Hans Mezger. The engine uses the original air-cooled 911\\'s versatile dry-sump crankcase, with an external oil reservoir. The 996 GT3 has 265 kW; 355 hp (360 PS), compared to the 221 kW; 296 hp (300 PS) of the standard 996. In GT3 configuration, this so-called \"split\" crankcase (meaning the parting line of crankcase is on the crankshaft centreline) uses, instead of a fan and finned cylinders, separate water jackets added onto each side of the crankcase to cool banks of three cylinders with water pumped through a radiator. Thus, the GT3 engine is very similar to the completely water-cooled 962 racing car\\'s engine, which is based on the same crankcase. The 962 differs, however, by using six individual cylinder heads while the \"Mezger\" (GT1 engine block) uses two cylinder heads, each covering a bank of three cylinders. The GT3 engine could thus also be thought of as similar to a 959 engine, but with water-cooled crankcase. Up until model year 2004 996 production, the basic casting used for the \"Mezger\" crankcase of the GT3 was the same as the 996 GT1 LeMans cars, and the same \"964..\" block part-number is visible on the bottom of the crankcase. Beginning with MY2004 however, production was outsourced to Valmet facilities in Spain, France, and Austria, and all subsequent road-legal Mezger engines are part-numbered \"996..\" (even 997 Generation).\\nBecause the GT1 Mezger block uses the same legacy Porsche 356 engine to transmission mounting flange configuration, the 996 GT3 used a 6-speed manual gearbox also of air-cooled 911 heritage. This new G96/50 gearbox has interchangeable gear ratios and is more durable making it more suitable for racing than the standard type 996 Carrera\\'s gearbox.\\nTo bring the vehicle\\'s track-prowess to the maximum level, Porsche endowed the GT3 with enlarged brakes, a lowered, re-tuned suspension system, lighter-weight wheels and a new front bumper with matched rear spoiler to help increase downforce, thereby increasing grip.\\nPorsche offered a no-cost option for the GT3 called the \\'Clubsport\\' package. This option replaced the standard electrically adjustable leather front seats with manually adjustable racing bucket seats finished in fire-retardant fabric, single mass flywheel, bolt-in half-roll cage, 6-point drivers racing harness (also replacing the standard side airbags), fire extinguisher (mounted in the front passenger footwell) and preparation for a battery master switch. The Clubsport option was never offered to US customers, ostensibly due to the additional DOT crash testing that would have been required to allow US sales.\\n\\n\\t\\t\\n\\t\\t\\t\\n\\t\\t\\t\\n\\t\\t\\n\\t\\t\\n\\t\\t\\t\\n\\t\\t\\t\\n\\t\\t\\n\\n\\n==== 996.2 GT3 ====\\nPorsche made significant updates to the GT3 for 2004 model year (the first year the car was offered to US customers), using the 2002 996 facelift including headlights that were differentiated from the entry-level Boxster. This model is commonly known as the 996.2 GT3. Engine power output rating was raised to 280 kW (381 PS) and torque to 385 N⋅m (284 lb⋅ft), 80% of which was available from 2,000 rpm. The braking setup was upgraded, now featuring 6-piston calipers on the front (rears remained 4-piston), and the Porsche Ceramic Composite Brake system was offered as an option. The GT3 now used the body shell of the Carrera 4.\\nIn track testing by American automotive journals, the GT3 managed a 0–97 km/h (0–60 mph) acceleration time of 4.5 seconds and a quarter mile time of 12.0 seconds at 190 km/h (118 mph). During skidpad testing, the GT3 posted 1.03g.\\nPorsche\\'s official test-driver Walter Röhrl completed the Nürburgring Nordschleife with the 996 GT3 in 7 minutes 56 seconds, a feat which was used by Porsche to promote the car.\\n\\n\\t\\t\\n\\t\\t\\t\\n\\t\\t\\t\\n\\t\\t\\n\\t\\t\\n\\t\\t\\t\\n\\t\\t\\t\\n\\t\\t\\n\\n\\n==== 996.2 GT3 RS ====\\nIn 2003, Porsche introduced the Porsche 911 GT3 RS, an even more track-focused version of the 996 GT3. RS is short for the German RennSport, translating to \"racing sport\" in English. The \"RS\" moniker, and the characteristic lightweight blue or red wheels and \"GT3 RS\" side stickers link the 996 GT3 RS to historically important Porsches such as the Carrera 2.7 RS of the early 1970s. The 996 GT3 RS is lighter than the 996 GT3 thanks to a polycarbonate rear window, carbon fibre hood and rear wing. Porsche Ceramic Composite Brake (PCCB) Carbon fibre-reinforced Silicon Carbide (C/SiC) ceramic composite brakes, which are also more heat and fade resistant than the cast iron units fitted as standard, were optional.\\nThe 996 GT3 RS has a slightly different engine specification to the 996 GT3. The cylinder heads of the 996 GT3 RS have reshaped intake and exhaust ports for race homologation. Porsche claim the same 284 kW (381 hp) power output as the standard GT3 but Porsche\\'s control dyno showed a jump to nearly 298 kW (400 hp) The RS also has progressive springs rather than linear. The dampers are uprated and are between 10 and 15 percent stiffer than the 996 GT3 in bounce and rebound.\\nThe wheel carriers are totally redesigned to maximize the improved dynamic camber control. The suspension top mounts can be turned 120 degrees to a cup car position. Both front and rear control arms are adjustable. The RS is 3 mm (0.1 in) lower than the 996 GT3.\\nThe rear wing delivers 35 kg (77 lb) of downforce at 200 km/h (120 mph). The RS has ram air ducts on the engine bay which force air into the intake with 18 mb (18 hPa) of pressure at 300 km/h (190 mph) and this is enough to create an excess power output of 11 kW; 15 PS (15 hp). This additional power output cannot be homologated since the official engine output figures are certified on a dynamometer.\\nThe 996 GT3 RS had a production run from 2003 to 2005. Only 140 right hand drive cars were built by Porsche and 113 of those were officially imported into the UK. The 996 GT3 RS was not sold in the United States or Canada.\\nAutomobile magazines claim the 996 GT3 RS can accelerate from 0–97 km/h (0–60 mph) in about 4.3 seconds, maintains over 1.0g on the skidpad, and has a top speed of around 306 km/h (190 mph).\\nThe RS completed a lap of the Nürburgring 7:43, four seconds faster than the 996 GT2, the top-of-the-line 996 variant of the time.\\n\\n\\t\\t\\n\\t\\t\\t\\n\\t\\t\\t\\n\\t\\t\\n\\t\\t\\n\\t\\t\\t\\n\\t\\t\\t\\n\\t\\t\\n\\n\\n=== 997 GT3 ===\\n\\n\\n==== 997.1 GT3 ====\\nIn February 2006, Porsche unveiled the second generation of GT3, the 997 commonly now known as the 997.1 GT3. In addition to a new 305 kW (415 PS) 3.6 litre flat-six engine, the vehicle featured \"zero lift\" aerodynamics, meaning the car creates only aerodynamic downforce and no grip-diminishing \"lift\" upwards and away from the road surface. The GT3 made use of a modified, track oriented version of Porsche\\'s active PASM suspension making it the first of Porsche\\'s RS or GT3 versions to feature an electronically adjustable suspension system. Also available was a navigation system and Porsche\\'s \"sports chrono\" gauge package. The car went to sale in summer of 2006. A total of 917 units were sold in the United States and 46 units in Canada.\\nThe 997 GT3 has a rated 0–97 km/h (0–60 mph) acceleration time of 4.1 seconds and has a top speed of 311 km/h (193 mph). Road and Track was able to achieve a 0–97 km/h (0–60 mph) acceleration time of 3.8 seconds. Porsche\\'s official test-driver Walter Röhrl completed the Nürburgring Nordschleife in 7 minutes 42 seconds with the 997 GT3 in 2006.\\n\\n\\t\\t\\n\\t\\t\\t\\n\\t\\t\\t\\n\\t\\t\\n\\t\\t\\n\\t\\t\\t\\n\\t\\t\\t\\n\\t\\t\\n\\n\\n==== 997.1 GT3 RS ====\\nPorsche also offered an RS version of the 997 GT3. In common with its predecessors, it was a homologation model for use in a range of racing series. The 997 GT3 RS was introduced in Europe in October 2006 and in North America in spring 2007.\\nThe 997 GT3 RS is 20 kg (44 lb) lighter than the 997 GT3, weighing in at 1,370 kg (3,020 lb). This weight-saving was achieved by the use of an adjustable carbon fibre wing, a steel engine cover, and a lightweight plastic windscreen. The weight savings gives the 997 GT3 RS corresponding engine power to curb weight ratio of 224 kW (300 hp) per tonne.\\nThe body of the 997 GT3 RS is 64 mm (2.5 in) wider at the rear than the 997 GT3 (a legacy from the Carrera 4 models with which it shares its body shell). The muscular-looking rear end conceals a wider track that not only improves directional stability but also increases the potential cornering grip. However, drag is increased and top speed is reduced due to the larger rear wing. In addition to the new technology, the paint scheme and body panels are all designed specifically for the RS.\\nThe US version of the 997 GT3 RS has a standard rear window (not plexiglas) and the smaller 911 fuel tank to comply with rules of SCCA, Can-Am, and IMSA. For Grand-Am races, the central locking wheel nut is replaced with the standard five-lug pattern required under Grand-Am rules.\\nProduction of the first generation 997 GT3 RS (997.1 GT3 RS) ended in 2009. An estimated 1,168 vehicles were delivered worldwide, with a total of 410 units sold in the United States and 42 units in Canada.\\n\\n\\t\\t\\n\\t\\t\\t\\n\\t\\t\\t\\n\\t\\t\\n\\t\\t\\n\\t\\t\\t\\n\\t\\t\\t\\n\\t\\t\\n\\n\\n==== 997.2 GT3 ====\\nIn 2009, Porsche launched the 2nd Generation 997 GT3 (commonly known as the 997.2 GT3), with an enlarged 3.8 litre engine rated at 320 kW (435 PS). It also featured a number of new options including dynamic engine mounts and a pneumatically lifting front axle to compensate for the low ground clearance. The rear spoiler was also modified along with other parts of the bodywork. Deliveries in Europe commenced in November the same year. A total of 654 units were sold in the United States and 58 units in Canada.\\n\\n\\t\\t\\n\\t\\t\\t\\n\\t\\t\\t\\n\\t\\t\\n\\t\\t\\n\\t\\t\\t\\n\\t\\t\\t\\n\\t\\t\\n\\n\\n==== 997.2 GT3 RS ====\\nFor 2010, the second generation 911 GT3 RS (known as 997.2 GT3 RS) received an additional 11 kW; 15 hp (15 PS) due to a new 3.8-litre flat-6 engine, bringing total power output up to 331 kW; 444 hp (450 PS). The car was not approved for competition in the United States by IMSA American LeMans. Grand-Am originally did not approve the car, but after performance issues (a Porsche team did not compete at the Indy Grand Prix of Alabama round), Grand-Am approved the second-generation car in April 2010.\\nPorsche test drivers had intended to enter the 2011 12 Hours of Nürburgring on a standard road legal 911 GT3 RS, but had to withdraw for health reasons from the team that comprised racers Roland Asch and Patrick Simon, plus journalists Horst von Saurma and Chris Harris. The car, entered in cooperation with sport auto (Germany), is registered as S-GO 2400, and was driven from Weissach to Nürburg. The RS was modified according to safety requirements, which included a larger roll cage and fire extinguisher. As no race tyres were available for 19\" wheels, the 18\" wheels of the Carrera Cup racers were used. Asch qualified with 9:15, 42nd overall, and 9th among the 17 SP7 class entrants, only beaten by its race-prepared Porsche 997 siblings. In an otherwise disappointing race for Porsche, with the best race 997 finishing only 6th, the road-legal car did 145 laps, 9 less than the winning BMW, for place 13. It supposedly had to cover another 306 km, on the Autobahn back home.\\nA total of 541 units sold in the United States and 71 units in Canada.\\n\\n\\t\\t\\n\\t\\t\\t\\n\\t\\t\\t\\n\\t\\t\\n\\t\\t\\n\\t\\t\\t\\n\\t\\t\\t\\n\\t\\t\\n\\n\\n==== 997.2 GT3 RS 4.0 ====\\nThe 911 GT3 RS 4.0, launched in 2011, was the final evolution of the 997 GT3 and featured a 4.0 litre flat-six engine (the largest engine offered in a street-legal 911). The engine itself uses the crankshaft from the RSR with increased stroke dimensions (from 76.4 mm to 80.4 mm). This change increased the power output to 368 kW; 493 hp (500 PS) at 8,250 rpm and 460 N⋅m (339 lbf⋅ft) of torque at 5,750 rpm. Chassis development was influenced by the GT2 RS and uses parts from other RS 911s. Front dive planes give additional downforce up front. The car weighs in at 1,360 kg (2,998 lb), giving it a power-to-weight ratio of 272 kW (365 hp) per tonne. Only 600 cars were built. At 368 kW (493 hp), the engine is one of the most powerful six-cylinder naturally aspirated engines in any production car with a 92 kW (123.25 hp) per litre output.\\nPerformance figures include 0–97 km/h (0–60 mph) acceleration time of 3.5 seconds and a top speed of 311 km/h (193 mph). The lap time on the Nürburgring Nordschleife is 7 minutes and 27 seconds.\\nThe car was offered in Basalt Black, Carrera White, Paint to Sample Non Metallic and Paint to Sample Metallic colours. A total of 141 units were sold in the United States and 16 units in Canada.\\n\\n\\t\\t\\n\\t\\t\\t\\n\\t\\t\\t\\n\\t\\t\\n\\t\\t\\n\\t\\t\\t\\n\\t\\t\\t\\n\\t\\t\\n\\n\\n=== 991 GT3 ===\\n\\n\\n==== 991.1 GT3 ====\\nPorsche introduced the 991 GT3 at the Geneva Motor Show in 2013. The 991 GT3 features a new 3.8 litre multi-point electronic indirect injection flat-six engine developing 349 kW; 469 hp (475 PS) at 8,250 rpm, a Porsche Doppelkupplung (PDK) double-clutch gearbox and rear-wheel steering. The engine is based on the unit fitted in the 991 Carrera S, but shares only a few common parts. All other components, particularly the crankshaft and valve train, were specially adapted or developed for the 991 GT3. For example, the 991 GT3\\'s engine uses titanium connecting rods attached to forged pistons, in order to allow the engine to reach up to 9,000 rpm. The dual-clutch gearbox is another feature specially developed for the 991 GT3, based on sequential manual transmissions used in racing cars.\\nThe 911 GT3 is claimed to be able to accelerate from 0–97 km/h (0–60 mph) in 3.5 seconds or less, and 400 m (the quarter mile) in 11.2 seconds at 203 km/h (126 mph). The GT3 has a claimed top speed of 325 km/h (202 mph). The lap time on the Nürburgring Nordschleife is 7 minutes and 25 seconds.\\n\\n\\n===== Reliability issues =====\\nAfter a number of engine failures in 2014, it was discovered that the supplier of the connecting rod bolts had made a production error in the alloy of the bolt. Subsequently, all 785 of the GT3s that had been produced up to that point were recalled to the dealership organisations and fitted with new engines, and all owners were issued with an extra year\\'s warranty.\\nA formal letter sent to Porsche from members of the US-based Rennlist.com \"991.1 GT3 Concerned Owners Group\" about additional engine durability issues lead to a meeting between representatives of the owners group and Porsche, including head of Porsche Motorsport Dr. Frank-Steffen Walliser, on 3 August 2017 at the Porsche North America Atlanta headquarters. According to Dr. Walliser the concerning high-RPM misfire issue could be traced primarily to a metallurgical defect in certain batches of \"finger followers\" (valve train rocker arms) and secondarily to individual driving patterns and engine variations – such as temperature, oil quality, oil viscosity and parts tolerances – that lead to increased wear of the specific parts. In response to the issue and after implementing new engine tests to trace down the issue Porsche had developed revised camshafts and finger followers and offers a fully transferable 10-year, 120,000 mile extended engine warranty to all 991.1 generation GT3 owners worldwide that covers the replacement of the defective engine with a new engine with the revised parts if failure is a direct result of the finger-follower issue. The base bumper-to-bumper warranty and all other warranty terms and conditions remain unchanged. Porsche confirmed that the issue is isolated to the 991.1 GT3, and that the 991.1 GT3 RS and the 991 R are not affected.\\n\\n\\t\\t\\n\\t\\t\\t\\n\\t\\t\\t\\n\\t\\t\\n\\n\\n==== 991.1 GT3 RS ====\\nPorsche launched the RS version of the 911 GT3 at the Geneva Motor Show in 2015. Compared to the 911 GT3, the front fenders are now equipped with louvers above the wheels and the rear fenders now include Turbo-like intakes, rather than an intake below the rear wing. The roof is made from magnesium. The interior includes full bucket seats (based on the carbon seats of the 918 Spyder), carbon-fibre inserts, lightweight door handles and the Club Sport Package as standard (a bolted-on roll cage behind the front seats, preparation for a battery master switch, and a six-point safety harness for the driver and fire extinguisher with mounting bracket).The car was nominated as one of the Britain\\'s best driver\\'s car 2014 by Autocar magazine.\\nThe 3.8-litre unit found in the 911 GT3 is replaced with a 4.0-litre unit with 370 kW; 490 hp (500 PS) and 469 N⋅m (346 lb⋅ft) of torque. The transmission is PDK only. The drivetrain delivers 0–100 km/h (0–62 mph) in 3.4 seconds (0.6 seconds quicker than the 997 GT3 RS 4.0) and 0–200 km/h (0–124 mph) in 10.9 seconds. The 991 GT3 RS also comes with functions such as declutching by \"paddle neutral\" — comparable to pressing the clutch with a conventional manual gearbox — and Pit Speed limiter button. As with the 911 GT3, there is rear-axle steering and Porsche Torque Vectoring Plus with fully variable rear axle differential lock. The Nürburgring Nordschleife time is 7 minutes and 20 seconds.\\n\\n\\t\\t\\n\\t\\t\\t\\n\\t\\t\\t\\n\\t\\t\\n\\t\\t\\n\\t\\t\\t\\n\\t\\t\\t\\n\\t\\t\\n\\n\\n==== 991.2 GT3 ====\\nPorsche unveiled the facelifted 991.2 GT3 at the 2017 Geneva Motor Show. Extensive changes were made to the engine allowing for a 9,000 rpm redline from the 4.0 litre flat-six engine derived from Porsche 911 GT3 R and Cup racing cars as well as more-efficient gasoline direct injection fuel feed system. The engine has a power output of 368 kW; 493 hp (500 PS) and 460 N⋅m (339 lb⋅ft) of torque. Porsche\\'s focus was on reducing internal friction to improve throttle response. Compared to the 991.1, the rear spoiler is 20 mm (0.8 in) taller and located farther back to be more effective resulting in a 20% increase in downforce. There is a new front spoiler and changes to the rear suspension along with larger ram air ducts. The car generates 154 kg (340 lb) of downforce at top speed. The 991.2 GT3 brought back the choice between a manual transmission or a PDK dual clutch transmission.\\nPerformance figures include a 0–97 km/h (0–60 mph) acceleration time of 3.8 seconds (3.2 seconds for the PDK version) and a 400 m (quarter mile) time of 11.6 seconds. The GT3 can attain a top speed of 319 km/h (198 mph).\\n\\n\\t\\t\\n\\t\\t\\t\\n\\t\\t\\t\\n\\t\\t\\n\\t\\t\\n\\t\\t\\t\\n\\t\\t\\t\\n\\t\\t\\n\\n\\n===== GT3 Touring =====\\nFollowing the roots of the 2016 991.1 911 R, a touring version of the GT3 was introduced that removes the rear wing and replaces it with the modified retractable rear spoiler from the Carrera GTS (with a Gurney flap and 20-degree deployment angle) to give a more smooth and flowing aesthetic image, though it extends further upwards to provide extra downforce. The spoiler deploys at 120 km/h (75 mph) and retracts at 80 km/h (50 mph). It can also be manually deployed by the press of a button. The downforce is 104 kg (230 lb) less than the standard GT3 at top speed. Top speed is also reduced to 315 km/h (196 mph). The Touring is only available with a manual transmission, features leather versus Alcantara, and cannot be specified with the Clubsport package available with the normal GT3. Other options and features remain the same as the GT3. The suspension settings are said to be identical to the standard GT3 as is the engine. However, the air intake replaces the normal GT3\\'s box paper air filters with a conic high flow BMC air filters and adds membrane on the two air filter chambers under the gurney flap that are the reasons of the sound differences between the normal GT3 and the GT3 Touring. The touring, unlike the 911 R is not produced in limited numbers, therefore, discouraging high price speculation.\\n\\n\\t\\t\\n\\t\\t\\t\\n\\t\\t\\t\\n\\t\\t\\n\\t\\t\\n\\t\\t\\t\\n\\t\\t\\t\\n\\t\\t\\n\\n\\n==== 991.2 GT3 RS ====\\nIn February 2018, Porsche unveiled a facelifted GT3 RS model to continue their updates for the 991 generation of the 911. Changes include a new engine similar to the GT3 and RSR models with a 9,000 rpm redline and 20 PS (15 kW; 20 hp) and 10 N⋅m (7.4 lb⋅ft) increase over the previous GT3 RS, NACA ducts for brake cooling, modified front fascia (similar to the 991.2 GT3), side skirts and rear wing (similar to the GT2 RS) for increased downforce, ball joints on all suspension links, front helper springs, lightweight glass for the rear and rear-side windows and a newly developed tyre compound. A Weissach package including additional carbon fibre body and interior parts as well as magnesium wheels made by BBS and stiffer suspension settings is available as an option.\\nOn 18 April 2018, driven by Kévin Estre the 991.2 GT3 RS set a lap time of 6:56.4 around the Nürburgring Nordschleife. It is the third Porsche production car to break the 7 minute barrier around the track, the first being the 918 Spyder.\\n\\n\\t\\t\\n\\t\\t\\t\\n\\t\\t\\t\\n\\t\\t\\n\\t\\t\\n\\t\\t\\t\\n\\t\\t\\t\\n\\t\\t\\n\\n\\n=== 992 GT3 ===\\n\\nPorsche revealed the 992 GT3 in February 2021. The 992 GT3 has the same engine as its predecessor, a 4.0-litre flat-six updated to produce 375 kW; 503 hp (510 PS) at 8,400 rpm and 470 N⋅m (347 lb⋅ft) of torque at 6,250 rpm, with a 9,000 rpm redline. The 992 GT3 is capable of 0–100 km/h (0–62 mph) in 3.4 seconds.\\nThe 992 GT3 moves to an unequal-length control-arm front suspension influenced by the 991 RSR. The rear wing has swan-neck pylons with increased downforce compared to previous GT3 models. The GT3 is offered with either a seven-speed dual-clutch PDK or a six-speed manual.\\n\\n\\n==== 992 GT3 Touring ====\\n\\nA Touring package is available, which replaces the rear wing with an automatically deployable rear spoiler.\\n\\n\\n==== 992 GT3 RS ====\\n\\nThe 992 GT3 RS was announced in August 2022. It features a dramatically improved aerodynamic profile compared to the 992 GT3, resulting in 860 kg (1,900 lb) of downforce at 285 km/h (177 mph), a two-fold increase over the 991.2 GT3 RS, and 409 kg (902 lb) of downforce at 200 km/h (120 mph). The rear wing features a static portion and an active portion, which can open and close automatically based on vehicle data, or manually with a button fitted to the steering wheel (inspired by Formula 1\\'s Drag Reduction Systems (DRS)).\\nIts engine produces 386 kW (525 PS) at 8500 rpm and 465 Nm of torque at 6300 rpm. The car has a redline of 9000 rpm (same as the GT3 done by its naturally aspirated flat-six engine) The kerb weight of the car in European specification is 1450 kg, and it\\'s capable of achieving 100 km/h in 3.2 seconds, and 200 km/h in 10.6 seconds. The top speed stated by Porsche is 296 km/h.\\n\\n\\n== Specifications (road cars) ==\\n\\n\\n== Motorsport ==\\n\\n\\n=== Racing cars ===\\nMany different race versions of the 911 GT3 have entered competition since 1998:\\n\\n\\n=== 996 GT3 ===\\n\\n\\n==== 996 GT3 Cup (1998–2001) ====\\nThe 996 GT3 Cup served as the basis for the upcoming 996 GT3 road car, featuring a 3.6 litre (bore×stroke: 100 mm×76.4 mm) boxer engine on based on the GT1 block rated at 265 kW (360 PS; 355 hp) at 7,200 rpm and 360 N⋅m (266 lbf⋅ft) at 6,250 rpm, with a redline of 8,000 rpm, mated to a six-speed manual transmission. For the 1999 season the engine output was increased to 272 kW (370 PS; 365 hp) and 370 N⋅m (273 lbf⋅ft) at 6,250 rpm. The fuel cell holds 64 litres of fuel and the car weighs in at 1,140 kg (2,513 lb). Slick tyres supplied by Pirelli measured 245/45-18 front to 305/645-18 rear, brake disks measured 330 mm and ABS was standard. The car can accelerate from 0-100 km/h (62 mph) in four seconds and has a top speed of 286 km/h (178 mph). For the 2001 season the GT3 Cup received modified aerodynamics including an enlarged rear wing and improved cooling.\\n\\n\\t\\t\\n\\t\\t\\t\\n\\t\\t\\t\\n\\t\\t\\n\\n\\n==== 996 GT3 R (1999–2001) ====\\nThe 996 GT3 R was introduced in 1999 as a replacement for the 993 RSR. Before its introduction, it was extensively tested at Weissach and Paul Ricard. Reduction in weight over the GT3 road car was achieved by carbon fibre body panels and plexi-glass rear and side windows. The front nose section contained additional air inlets for engine and brake cooling. A steel roll cage was welded into the body and the car was fitted with an air-jack system, fire extinguisher and racing seat with safety harness.\\nThe suspension was similar to the GT3 road car in principle, but with variable springs, adjustable shocks, anti-roll bars and spherical joints. The car could be set up precisely for each track. Large brake discs (standard specifications: 350 mm front and 330 mm rear) were fitted but with no ABS brakes because they were not permitted in Le Mans GT3 class.\\nThe 3.6-litre engine (Type M96/77) developed 302 kW (411 PS; 405 hp) at 8,200rpm when fitted with a 43.1 mm air restrictor plate, thereby meeting class regulations. The engine was fitted with a Bosch Motronic 3.1 engine management system. Other engine modifications included titanium conrods and valves, a racing exhaust system, as well as a dry-sump lubrication with an oil-water heat exchanger. A 6-speed sequential manual transmission was installed. Notable wins for the GT3 R include class wins at the 1999 and 2000 24 Hours of Le Mans.\\n\\n\\t\\t\\n\\t\\t\\t\\n\\t\\t\\t\\n\\t\\t\\n\\n\\n==== 996 GT3 RS (2001) ====\\nThe 2001 996 GT3 RS won the GTO Class in the 2001 British GT Championship at the hands of Parr Motorsport\\'s Kelvin Burt and Marino Franchitti with 109 points.\\n\\n\\t\\t\\n\\t\\t\\t\\n\\t\\t\\t\\n\\t\\t\\n\\t\\t\\n\\t\\t\\t\\n\\t\\t\\t\\n\\t\\t\\n\\n\\n==== 996 GT3 Cup (2002–2004) ====\\nIn 2002, the GT3 Cup received several changes, adopting facelift 996.2 features such as Turbo-style headlights. The new body significantly improves aerodynamics and cooling. Engine output was increased to 280 kW (381 PS; 375 hp) and 380 N⋅m (280 lbf⋅ft) of torque, further changes include improved transmission cooling, a lightened exhaust system and other light-weighing measures across the car. Slicks supplied by Michelin measured 24/64-18 front and 27/68-18 rear. Front brake disks increased to 350 mm in diameter, clamped by six-piston calipers. Weight remained at 1,140 kg (2,513 lb) dry.\\nFor the 2004 season, the car received further upgrades. Engine output was increased slightly, to 287 kW (390 PS; 385 hp) at 7,200 rpm and 390 N⋅m (288 lbf⋅ft) of torque at 6,500 rpm. Gear ratios of fourth, fifth and sixth gears were shortened. A 89-litre fuel cell improves endurance racing capabilities. Changes were made to the interior to enable the use of the HANS device.\\n\\n\\t\\t\\n\\t\\t\\t\\n\\t\\t\\t\\n\\t\\t\\n\\t\\t\\n\\t\\t\\t\\n\\t\\t\\t\\n\\t\\t\\n\\n\\n==== 996 GT3 RSR (2004) ====\\nThe 2004 Porsche 911 996 GT3 RSR was essentially an upgraded version of the motorsports oriented GT3 RS. It was the ultimate development of the 996 GT3 featuring a 331 kW (450 PS; 444 hp) 3.8-litre flat-6 engine and a 6-speed sequential manual transmission. Reduction in weight was achieved by employing carbon fibre panels. Only 37 cars were built. Accolades of the RSR include three victories in American Le Mans Series GT2 class and class wins at the 2004 and 2005 24 Hours of Le Mans.\\n\\n\\t\\t\\n\\t\\t\\t\\n\\t\\t\\t\\n\\t\\t\\n\\t\\t\\n\\t\\t\\t\\n\\t\\t\\t\\n\\t\\t\\n\\t\\t\\n\\t\\t\\t\\n\\t\\t\\t\\n\\t\\t\\n\\t\\t\\n\\t\\t\\t\\n\\t\\t\\t\\n\\t\\t\\n\\t\\t\\n\\t\\t\\t\\n\\t\\t\\t\\n\\t\\t\\n\\n\\n=== 997 GT3 ===\\n\\n\\n==== 997 GT3 Cup (2005–2008) ====\\nThe 997 Cup\\'s 3.6 litre engine is rated at 294 kW (400 PS; 394 hp) at 7,000 rpm and 400 N⋅m (295 lbf⋅ft) at 6,500 rpm and is now mated to a six-speed sequential transmission. The 997 features significantly improved aerodynamics and lightweight CFRP parts, including doors, rear body panels, engine deck lid and rear wing. Parts of the suspension are adopted from the GT3 RSR. Brake discs are 380 mm front and 350 mm in the rear in diameter and ABS with four control settings is standard.\\n\\n\\t\\t\\n\\t\\t\\t\\n\\t\\t\\t\\n\\t\\t\\n\\t\\t\\n\\t\\t\\t\\n\\t\\t\\t\\n\\t\\t\\n\\n\\n==== 997 GT3 RSR  (2006–2012) ====\\nFirst introduced in 2006, the 997 RSR was built to comply with the Automobile Club de l’Ouest, the FIA-GT and IMSA as well as VLN regulations. Based on the 997 GT3, the RSR features a 3.8-litre flat-6 engine with two 30.3 mm air restrictors as compared to the 3.6-litre engine of its predecessor with 29 mm restrictors. The increase in displacement was achieved through the enlargement of the bore to 102.7 mm with the unchanged stroke of 76.4 mm. With the mandatory air restrictors, the engine is rated at 335 kW (455 PS; 449 hp) at 8,500 rpm and 435 N⋅m (321 lb⋅ft) of torque. The engine has a red-line of 9,000 rpm due to the increase in capacity and the corresponding reprogramming of the electronics. The new positioning of the mid-front radiator and the use of side radiators – shared with the Carrera GT – contribute to the thermal health of the engine. The 997 RSR used the 6-speed sequential manual transmission of 996 RSR for the 2006 season. For the 2007 season, a new 6-speed sequential manual transmission was added which was shared with the RS Spyder.\\nThe bodyshell with the welded-in safety cage is ten percent stiffer than the 996 RSR. Distinctive wheel arches widen the body by 50 mm (2 in) on each side. The relocation of the supplementary oil tank, power steering components and battery to the front improve weight distribution. The front and rear lids, the front mudguards, the rear section, the doors as well as the front and rear panelling and wing are made of carbon fibre. Polycarbonate rear and side windows further aid in weight reduction.\\nThe newly developed aerodynamic package improves aerodynamic efficiency by a total of around seven percent over the 996 RSR. In compliance with the FIA and A.C.O. regulations the new GT3 RSR features a flat underbody.\\nThe RSR featured ZF-Sachs shock absorbers which have Through-Rod-System with considerably lower chamber pressure and hence generate less friction than conventional dampers. As a result, they offer a significantly improved response characteristic. The improved axles featured new anti-rollbars, an adjustable upper link and an optimised lower link.\\nIn 2007 Porsche added front air louvers that channel air into the radiators and exit through the bonnet. For 2011 Porsche added splitters to the front and increased the tyre diameter to cope with the understeer problem engine power output was also increased to 338 kW (460 PS; 453 hp).\\nThe 997 GT3 RSR has scored many class victories around the world, including first-place finishes at the 2011 and 2013 Petit Le Mans. The 997 GT3 RSR set a Nürburgring Nordschleife lap time record for non-turbocharged cars at 7:07 while driven by Sabine Schmitz.\\n\\n\\t\\t\\n\\t\\t\\t\\n\\t\\t\\t\\n\\t\\t\\n\\t\\t\\n\\t\\t\\t\\n\\t\\t\\t\\n\\t\\t\\n\\n\\n==== 997 GT3 Cup S (2008–2010) ====\\nHomologated on basis of the GT3 RS road car instead of the GT3 and destined for international FIA GT3 customer racing. Suspension components were adopted from the GT3 RSR.\\n\\n\\n==== 997 GT3 Cup 3.8 (2009–2013) ====\\nUnveiled at the 2009 Frankfurt Motor Show and based on the 997.2 GT3 RS, the GT3 Cup features a new 3.8 litre engine with an output of 331 kW (450 PS; 444 hp) at 7,500 rpm and an 8,500 rpm redline. Further changes include a 44 mm (1.7 in) wider rear body, 15 mm (0.59 in) lower front spoiler lip, an enlarged rear wing adopted from 911 GT3 Cup S measuring 1.70 m (67 in), new LED tail lights and a modified racing exhaust system. 9.5Jx18 front alloy wheels with 24/64-18 Michelin racing tyres and 12Jx18 alloy wheels with 27/68-18 tyres, additional Unibal joints on the track control arms and front and rear sword-shaped anti-roll bars with seven position settings each, additional vent in the upper part of the front lid, steering wheel mounted Info Display with 6 switches. The car weighs in at 1,160 kg (2,557 lb).\\nDeliveries began in the same year. The base MSRP of the European model was €149,850 (before tax).\\n\\n\\n==== 997 GT3 R (2010–2013) ====\\nReplacing the GT3 Cup S and built from the ground up for FIA GT3 regulations the GT3 R features a 4.0 litre, 368 kW (500 PS; 493 hp) boxer engine, a six-speed sequential transmission, a throttle-blip function, ABS and traction control. Base MSRP was 279,000 Euro (excl. taxes).\\nFor 2013 Porsche significantly modified the vehicle, changed the aerodynamics and increased the track, wheelbase and tyre width by several centimetres. An Evo conversion kit was offered to customers for 45,500 Euro (excl. taxes).\\n\\n\\n==== 997 GT3 R Hybrid (2010–2011) ====\\nThe 997 GT3 R Hybrid made its debut at the 2010 Geneva Motor Show. The hybrid technology featured in the car was developed by the Williams F1 Team and is based on their F1 kinetic energy recovery system (KERS) which they did not race in 2009. Unlike other KERS that were developed for F1, the Williams system is based on using kinetic energy stored in a flywheel rather than batteries. The GT3-R has two electric motors, both developing a total output of at least 163 kW (222 PS; 219 hp), driving the front wheels to supplement the 373 kW (507 PS; 500 hp) 4.0-litre flat-six engine at the rear. The car was entered at the 2010 24 Hours Nürburgring. As part of the buildup to the 24 hour race the GT3 Hybrid made its racing debut at the VLN 4 hour endurance 57th ADAC Westfalenfahrt at Nürburgring on 27 March 2010. On 28 May 2011, it won its first VLN race. At the 2011 24 Hours of Nurburgring, weight/restrictor penalties as well as technical difficulties prevented the R Hybrid from climbing higher than 28th place. The car also ran as an unclassified car at the 2011 American Le Mans Series at Monterey event; despite starting from last place, it finished ahead of all the other GT cars and also performed the fastest GT lap of the race.\\n\\n\\t\\t\\n\\t\\t\\t\\n\\t\\t\\t\\n\\t\\t\\n\\n\\n=== 991 GT3 ===\\n\\n\\n==== 991 GT3 Cup (2013–2017) ====\\nPorsche introduced the 991 GT3 Cup for the 2013 Porsche Supercup season, based on the 991 GT3. Like the 991 GT3 road car, its improvements over the 997 model include revised aerodynamics, an improved rollcage, new wheels and a revised chassis. The direct-injection 3.8-litre flat six is rated at 338 kW (453 hp) at 8500 rpm and drives the rear wheels through a mechanical limited slip differential. The transmission includes a paddle-shift, race-bred, pneumatically activated six speed developed specifically for the track. It uses lightweight materials in its construction, and a stripped-out cabin complete with a full roll cage, racing seat and all the safety gear required for competition, weighing 1,175 kg (2,590 lb).\\n\\n\\t\\t\\n\\t\\t\\t\\n\\t\\t\\t\\n\\t\\t\\n\\n\\n==== 991 RSR (2013–2017) ====\\n\\nIn 2013, Porsche introduced the newest version of the RSR based on the 991 model for the LM GTE category. Because the 991 GT3 was not in production at the time of the announcement, Porsche was forced to homologate it based on the 911 Carrera model. The 991 RSR includes revised aerodynamics, a lighter gearbox and a new, lower suspension. For the 2013 season, Porsche retained the Mezger engine of the 997 GT3 RSR model. Manthey Racing was chosen to run the cars in the FIA World Endurance Championship; the team achieved its best success at the 2013 24 Hours of Le Mans where the 991 RSR finished 1–2 in the GT class.\\nFor 2014, Porsche announced that it partnered with CORE Autosport to run two Porsche 911 RSRs in the United SportsCar Championship (under the Porsche North America team name) while AKB GT Raceline has announced that they would run a pair of 911 RSRs in the series. Team Falken Tire also announced that it would be running a 911 RSR from Sebring onwards. Manthey Racing will continue to run two 911 RSRs in the WEC.\\n\\n\\t\\t\\n\\t\\t\\t\\n\\t\\t\\t\\n\\t\\t\\n\\n\\n==== 991 GT America (2014) ====\\nPorsche also announced a variant of the 991 GT3 Cup car for the United SportsCar Championship known as the 911 GT America. The car is homologated exclusively for the Grand-Touring Daytona category of the series. Upgrades over the regular Cup car include improved aerodynamics, a bigger 4.0 L flat-six engine, a new gearbox, a different safety cell, new brakes and reliability upgrades for endurance racing.\\n\\n\\n==== 991 GT3 R (2016–2019) ====\\nIn May 2015, Porsche announced the 991 GT3 R, a customer race car designed to compete in Group GT3 from 2016 onwards. The car is homologated based on the 991 GT3 RS road car, and uses the production car\\'s 4.0-litre flat-six rated at around 373 kW (507 PS; 500 hp), running through a six-speed paddle-shift sequential gearbox. The GT3 R features a double-bubble roof, and a wheelbase which had been lengthened by 8.3 cm. Engineers also \"significantly optimised\" the centre of gravity position versus the old R, using carbon-fibre composite material (CFRP) for the roof, front cover and fairing, wheel arches, doors, side and tail sections as well as the rear cover. All windows – and for the first time ever, the windscreen – are made from polycarbonate to cut weight. Race car essentials such as an integrated (welded) roll cage according to FIA Appendix J, safety fuel cell (approximately 120 litres, with fuel cut off safety valve in accordance with FIA regulations), removable roof escape hatch and an air jack system are present. The weight is 1,220 kg (2,690 lb).\\nThe GT3 R has adopted the concept of the central radiator from the 911 RSR. By eliminating the side radiators, the position of the centre of gravity is improved, the radiator is better protected against collision damage, and the venting of hot air through louvres in the front cover is enhanced. The two-metre wide rear wing lends aerodynamic balance and distinctive wheel arch air vents on the front fairings increase downforce at the front axle. The GT3 R\\'s front MacPherson strut suspension and multi-link rear suspension are adjustable in height, camber and toe, and there are adjustable anti-roll bar blades at both ends. All wheel hubs come with centre-lock wheel nuts. There are two separate brake circuits for the front and rear axles; driver adjustable via a brake balance bar system. The front brakes consist of six-piston aluminium monobloc calipers gripping 380 mm discs; the rears are four-piston items with 372 mm discs.\\n\\n\\t\\t\\n\\t\\t\\t\\n\\t\\t\\t\\n\\t\\t\\n\\n\\n==== 991 RSR (2017–2019) ====\\n\\nIn November 2016, Porsche introduced the new version of the 911 RSR prepared for the LM GTE category. The car has a rear mid-engined design, powered by a 4.0-litre flat-six boxer engine, rated at 375 kW (510 PS; 503 hp) depending on series air restrictor. Other new features include a new transmission, a new direct fuel injection, a new aerodynamic pack including a swan-neck wing and a larger rear diffuser, quick-change body panels and double-wishbone suspension with quick-change shim-system all around, Bertrandt-developed LED lights first developed for the 919 Hybrid and new cockpit with fixed seat, movable pedal box, multi-function steering wheel with integrated display, a rear-view camera and collision avoidance system. The new RSR made its competition debut at the 2017 24 Hours of Daytona.\\nAt the 2018 24 Hours of Le Mans the Manthey Racing-entered Porsche GT Team 911 RSR #92 and #91 finished 1–2 in the LM GTE Pro class respectively. Both #92 and #91 carried a special livery marking the 70th anniversary of the marque with the liveries being from past racing cars built by Porsche. The #92 carries the \"Pink Pig\" livery, homage to the 917/20 which used the same livery, and the #91 carries the iconic Rothmans-inspired livery from the 80s 956 and the 962. Dempsey-Proton Racing-entered 911 RSR #77 won LM GTE Am.\\nAt the 2019 24 Hours of Le Mans the Manthey Racing-entered Porsche GT Team 911 RSR #91 finished second in the LM GTE Pro class and CORE-entered Porsche GT Team 911 RSR #93 finished third. Team Project 1-entered 911 RSR #56 won LM GTE Am.\\n\\n\\t\\t\\n\\t\\t\\t\\n\\t\\t\\t\\n\\t\\t\\n\\n\\n==== 991 GT3 Cup (2017–2020) ====\\nUnveiled at the 2016 Paris Motor Show, the 2017 911 GT3 Cup is based on the 991.2 911 GT3. Improvements on the previous model include a larger 4.0-litre flat-six boxer engine rated at 357 kW (485 PS; 479 hp), improved aerodynamics and an enlarged escape-hatch in the roof. The GT3 Cup is priced at 189,900 Euro excluding taxes.\\n\\n\\t\\t\\n\\t\\t\\t\\n\\t\\t\\t\\n\\t\\t\\n\\n\\n==== 991 GT3 R (2019–2023) ====\\nIn May 2018 Porsche introduced a new iteration of the 911 GT3 R based on the 991.2 GT3 RS, available for customer teams for the 2019 season. Its 4.0-litre flat-six boxer engine, largely identical to the unit used in the GT3 and GT3 RS street cars and GT3 Cup and RSR race cars, develops approx. 405 kW (551 PS; 543 hp). Improvements include a larger diffuser for more efficient aero, double wishbone front suspension adopted from the RSR, a shim system allowing setup changes without new alignment, larger front tyres, an electro-hydraulically actuated clutch allowing the removal of the clutch pedal, a fuel cell that can be configured to be refilled from left or right of the vehicle depending on circuit layout, a rear-view camera and collision avoidance system, a fixed seat with movable pedal-box and energy-absorbing impact elements placed in the doors for improved safety as well as air conditioning. The GT3 R is priced at 459,000 Euro excluding taxes.\\n\\n\\t\\t\\n\\t\\t\\t\\n\\t\\t\\t\\n\\t\\t\\n\\n\\n==== 991 RSR (2019–2023) ====\\n\\nIn July 2019, Porsche introduced the new version of the 911 RSR prepared for the LM GTE category at the Goodwood Festival of Speed. It is an evolution of the 991 RSR (2017), and 95% of the car is new. The engine has larger displacement, 4,194 cc (4.2 L). A more rigid sequential manual constant-mesh gearbox allows for faster shifts. The two exhaust pipes now exit on each side in front of the rear wheels, making space for an optimised diffuser. Aerodynamic efficiency is claimed to have been improved significantly. The car retains safety features such as a removable roof hatch and a rigidly-mounted seat with movable pedal-box from the predecessor model along with additional impact protection elements.\\n\\n\\t\\t\\n\\t\\t\\t\\n\\t\\t\\t\\n\\t\\t\\n\\n\\n=== 992 GT3 ===\\n\\n\\n==== 992 GT3 Cup (2021–) ====\\nOn 12 December 2020 Porsche unveiled the 992 GT3 cup, replacing the 991 GT3 cup. The 992 GT3 Cup has a 4.0L naturally-aspirated flat-six boxer engine developing 375 kW (510 PS; 503 bhp) at 8,400 rpm and 470 N⋅m (347 lbf⋅ft) of torque at 6,150 rpm, with a redline of 8,750 rpm. The body is made up of 70% aluminium and 30% steel reducing the weight to around 1,260 kg. Inside the car, there are new racing seats, a new carbon steering wheel and a new 260 mm (10.3 in) screen for data and diagnostics. The 911 GT3 Cup is priced at 225,000 Euro (US$267,165) excluding taxes.\\n\\t\\t\\n\\t\\t\\t\\n\\t\\t\\t\\n\\t\\t\\n\\n\\n==== 992 GT3 R (2023–) ====\\n\\nIn the summer of 2022 porsche unveiled the 992 generation of the 911 GT3 R. The car featured a bigger engine compared to its predecessor, producing up to 421 kW (565 bhp). The car made its global racing debut at the 2023 24 Hours of Daytona, where the car suffered from ABS and traction control problems. These issues were addressed by Porsche in the following months with new updates to the car.\\n\\t\\t\\n\\t\\t\\t\\n\\t\\t\\t\\n\\t\\t\\n\\n\\n==== 992 GT3 R Rennsport ====\\nDuring the 2023 Rennsport reunion Porsche debuted the track-only 911 GT3 R Rennsport. This car was created to celebrate Porsche\\'s 75th anniversary. It is based on the 992 GT3 R, making it effectively an unrestricted GT3 car. Only 77 cars will be produced.\\n\\n\\n=== Racing history ===\\nApart from numerous class wins, the 911 GT3 won major events overall:\\n\\n24 Hours Nürburgring in 2000, 2006, 2007, 2008, 2009, 2011, 2018, 2021 by Manthey Racing team\\nVarious VLN races at the Nürburgring.\\nSpa 24 Hours in 2003, 2010, 2019, 2020\\n24 Hours of Daytona in 2003\\nPetit Le Mans in 2015\\nBathurst 12 Hour in 2019, 2024\\nDubai 24 Hour in 2021\\n\\n\\n==== Porsche Cup ====\\nVarious national and regional Porsche Carrera Cup and Porsche GT3 Cup Challenge as well as the international Porsche Supercup one-make series – which serves as Formula One support series – utilise the 911 GT3 since 1998.\\n\\n\\n==== 1999 ====\\nDue to the absence of the official Porsche team in the 1999 24 Hours of Le Mans, only privateers with the nearly obsolete air-cooled 993 GT2 Turbo were expected to represent the marque, with few chances to beat the Chrysler Viper for GTS class honors. Two new race versions of the water-cooled 996 GT3-R were entered in the GT class by private teams. The car entered by the German Manthey Racing team finished 13th overall.\\n\\n\\n==== 2000s ====\\nThe 996 GT3-R were made available to privateer teams. In the 24 Hours Nürburgring of the year 2000, a factory-backed effort of the local Phoenix team managed to beat the Zakspeed Chrysler Viper that dominated this race from 1998 to 2000. The improved 996 GT3-RS version of 2001 was entered in countless races in the years to follow, scoring not only many class wins, but also overall wins at Daytona and Spa in 2003. In 2004, the 996 GT3-RSR was made available, with numerous improvements to the RS, including a sequential gearbox, which allows for faster gearshifts.\\n\\n\\n==== VLN ====\\nIn 2005, the new 997-generation racing vehicles began to debut with the GT3 Cup, followed by the launch of the 911 GT3-RSR at the 2006 Spa 24 Hours. In VLN endurance races, the Manthey entry won the last 4h race before the 24h event, and then the big event also. Their Porsche 997 GT3 RSR has a larger front splitter, taller rear wing and a 368 kW; 493 bhp (500 PS) 4.0L Flat-6 engine.\\n\\n\\n==== 24 Hours of Le Mans ====\\nAfter winning the 1998 24 Hours of Le Mans outright, Porsche dominated the GT/N-GT class at Le Mans. There were no major competitors and Porsche took seven consecutive class wins from 1999 to 2005. In 2006 the Porsches led for much of the race but one by one the competitors had problems and withdrew. Last minute mechanical issues threw the Seikel car back behind the surprising winner, the Panoz Esperante GTLMM.\\n2007 saw the debut of the 997 GT3 RSR. IMSA Matmut took pole by more than a second over the Ferrari (but lost it after breaching Parc Fermé rules). The new Porsche was now fitted with wider rear tyres and smaller restrictors than the rules allow. This was compensated by the car weighing 100 kg more. The Porsche now stood at 1,220 kg (2,690 lb) and 357 kW; 478 bhp (485 PS). This was an advantage at Le Mans over the lighter and nimbler F430.\\n\\n\\n==== Le Mans Series ====\\nFelbermayr-Proton and IMSA Performance Matmut received the new 997 just before the 2007 season. Marc Lieb and Richard Lietz share the better of the two Felbermayr cars. Patrick Pilet and Raymond Narac share the IMSA car. Felbermayr-Proton won the championship in 2009 and 2010. In 2011, Nicholas Armindo won the GTE-Am class.\\n\\n\\n== See also ==\\n9ff GT9, a high-speed automobile, based on the 997 GT3\\nRuf RGT, a sports car similar to the GT3 built by Ruf Automobile\\nList of best-selling automobiles\\n\\n\\n== References ==\\n\\n\\n== External links =='"
      ]
     },
     "execution_count": 27,
     "metadata": {},
     "output_type": "execute_result"
    }
   ],
   "source": [
    "ny.content"
   ]
  },
  {
   "cell_type": "code",
   "execution_count": 36,
   "id": "1dfdf9d0-e0a5-45a2-bc5a-a582c0f33616",
   "metadata": {},
   "outputs": [
    {
     "data": {
      "text/plain": [
       "False"
      ]
     },
     "execution_count": 36,
     "metadata": {},
     "output_type": "execute_result"
    }
   ],
   "source": [
    "'in' in wiki.languages()"
   ]
  },
  {
   "cell_type": "code",
   "execution_count": null,
   "id": "dea30be1-0f68-48e4-97d3-0a66fdecffdf",
   "metadata": {},
   "outputs": [],
   "source": []
  },
  {
   "cell_type": "code",
   "execution_count": null,
   "id": "5eeb7ee1-05c5-467f-ac5a-365f45c5f63e",
   "metadata": {},
   "outputs": [],
   "source": []
  }
 ],
 "metadata": {
  "kernelspec": {
   "display_name": "venv",
   "language": "python",
   "name": "venv"
  },
  "language_info": {
   "codemirror_mode": {
    "name": "ipython",
    "version": 3
   },
   "file_extension": ".py",
   "mimetype": "text/x-python",
   "name": "python",
   "nbconvert_exporter": "python",
   "pygments_lexer": "ipython3",
   "version": "3.10.8"
  }
 },
 "nbformat": 4,
 "nbformat_minor": 5
}
